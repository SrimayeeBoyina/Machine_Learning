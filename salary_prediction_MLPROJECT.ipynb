{
 "cells": [
  {
   "cell_type": "markdown",
   "id": "4ea09532",
   "metadata": {},
   "source": [
    "# ML_PROJECT"
   ]
  },
  {
   "cell_type": "markdown",
   "id": "e76a07a0",
   "metadata": {},
   "source": [
    "# Salary Prediction \n",
    "\n",
    "## based on features like (Age\t,Gender\t,Education Level,Job Title,Years of Experience)"
   ]
  },
  {
   "cell_type": "markdown",
   "id": "7938e648",
   "metadata": {},
   "source": [
    "."
   ]
  },
  {
   "cell_type": "code",
   "execution_count": 1,
   "id": "637685b3",
   "metadata": {},
   "outputs": [],
   "source": [
    "import pandas as pd\n",
    "import numpy as np"
   ]
  },
  {
   "cell_type": "markdown",
   "id": "16e3162d",
   "metadata": {},
   "source": [
    "## Reading CSV file (salary_data)"
   ]
  },
  {
   "cell_type": "code",
   "execution_count": 2,
   "id": "9ccd833b",
   "metadata": {},
   "outputs": [],
   "source": [
    "salary = pd.read_csv(\"salary_data.csv\")"
   ]
  },
  {
   "cell_type": "code",
   "execution_count": 3,
   "id": "a6bd9510",
   "metadata": {},
   "outputs": [
    {
     "data": {
      "text/html": [
       "<div>\n",
       "<style scoped>\n",
       "    .dataframe tbody tr th:only-of-type {\n",
       "        vertical-align: middle;\n",
       "    }\n",
       "\n",
       "    .dataframe tbody tr th {\n",
       "        vertical-align: top;\n",
       "    }\n",
       "\n",
       "    .dataframe thead th {\n",
       "        text-align: right;\n",
       "    }\n",
       "</style>\n",
       "<table border=\"1\" class=\"dataframe\">\n",
       "  <thead>\n",
       "    <tr style=\"text-align: right;\">\n",
       "      <th></th>\n",
       "      <th>Age</th>\n",
       "      <th>Gender</th>\n",
       "      <th>Education Level</th>\n",
       "      <th>Job Title</th>\n",
       "      <th>Years of Experience</th>\n",
       "      <th>Salary</th>\n",
       "    </tr>\n",
       "  </thead>\n",
       "  <tbody>\n",
       "    <tr>\n",
       "      <th>0</th>\n",
       "      <td>32.0</td>\n",
       "      <td>Male</td>\n",
       "      <td>Bachelor's</td>\n",
       "      <td>Software Engineer</td>\n",
       "      <td>5.0</td>\n",
       "      <td>90000.0</td>\n",
       "    </tr>\n",
       "    <tr>\n",
       "      <th>1</th>\n",
       "      <td>28.0</td>\n",
       "      <td>Female</td>\n",
       "      <td>Master's</td>\n",
       "      <td>Data Analyst</td>\n",
       "      <td>3.0</td>\n",
       "      <td>65000.0</td>\n",
       "    </tr>\n",
       "    <tr>\n",
       "      <th>2</th>\n",
       "      <td>45.0</td>\n",
       "      <td>Male</td>\n",
       "      <td>PhD</td>\n",
       "      <td>Senior Manager</td>\n",
       "      <td>15.0</td>\n",
       "      <td>150000.0</td>\n",
       "    </tr>\n",
       "    <tr>\n",
       "      <th>3</th>\n",
       "      <td>36.0</td>\n",
       "      <td>Female</td>\n",
       "      <td>Bachelor's</td>\n",
       "      <td>Sales Associate</td>\n",
       "      <td>7.0</td>\n",
       "      <td>60000.0</td>\n",
       "    </tr>\n",
       "    <tr>\n",
       "      <th>4</th>\n",
       "      <td>52.0</td>\n",
       "      <td>Male</td>\n",
       "      <td>Master's</td>\n",
       "      <td>Director</td>\n",
       "      <td>20.0</td>\n",
       "      <td>200000.0</td>\n",
       "    </tr>\n",
       "    <tr>\n",
       "      <th>...</th>\n",
       "      <td>...</td>\n",
       "      <td>...</td>\n",
       "      <td>...</td>\n",
       "      <td>...</td>\n",
       "      <td>...</td>\n",
       "      <td>...</td>\n",
       "    </tr>\n",
       "    <tr>\n",
       "      <th>370</th>\n",
       "      <td>35.0</td>\n",
       "      <td>Female</td>\n",
       "      <td>Bachelor's</td>\n",
       "      <td>Senior Marketing Analyst</td>\n",
       "      <td>8.0</td>\n",
       "      <td>85000.0</td>\n",
       "    </tr>\n",
       "    <tr>\n",
       "      <th>371</th>\n",
       "      <td>43.0</td>\n",
       "      <td>Male</td>\n",
       "      <td>Master's</td>\n",
       "      <td>Director of Operations</td>\n",
       "      <td>19.0</td>\n",
       "      <td>170000.0</td>\n",
       "    </tr>\n",
       "    <tr>\n",
       "      <th>372</th>\n",
       "      <td>29.0</td>\n",
       "      <td>Female</td>\n",
       "      <td>Bachelor's</td>\n",
       "      <td>Junior Project Manager</td>\n",
       "      <td>2.0</td>\n",
       "      <td>40000.0</td>\n",
       "    </tr>\n",
       "    <tr>\n",
       "      <th>373</th>\n",
       "      <td>34.0</td>\n",
       "      <td>Male</td>\n",
       "      <td>Bachelor's</td>\n",
       "      <td>Senior Operations Coordinator</td>\n",
       "      <td>7.0</td>\n",
       "      <td>90000.0</td>\n",
       "    </tr>\n",
       "    <tr>\n",
       "      <th>374</th>\n",
       "      <td>44.0</td>\n",
       "      <td>Female</td>\n",
       "      <td>PhD</td>\n",
       "      <td>Senior Business Analyst</td>\n",
       "      <td>15.0</td>\n",
       "      <td>150000.0</td>\n",
       "    </tr>\n",
       "  </tbody>\n",
       "</table>\n",
       "<p>375 rows × 6 columns</p>\n",
       "</div>"
      ],
      "text/plain": [
       "      Age  Gender Education Level                      Job Title  \\\n",
       "0    32.0    Male      Bachelor's              Software Engineer   \n",
       "1    28.0  Female        Master's                   Data Analyst   \n",
       "2    45.0    Male             PhD                 Senior Manager   \n",
       "3    36.0  Female      Bachelor's                Sales Associate   \n",
       "4    52.0    Male        Master's                       Director   \n",
       "..    ...     ...             ...                            ...   \n",
       "370  35.0  Female      Bachelor's       Senior Marketing Analyst   \n",
       "371  43.0    Male        Master's         Director of Operations   \n",
       "372  29.0  Female      Bachelor's         Junior Project Manager   \n",
       "373  34.0    Male      Bachelor's  Senior Operations Coordinator   \n",
       "374  44.0  Female             PhD        Senior Business Analyst   \n",
       "\n",
       "     Years of Experience    Salary  \n",
       "0                    5.0   90000.0  \n",
       "1                    3.0   65000.0  \n",
       "2                   15.0  150000.0  \n",
       "3                    7.0   60000.0  \n",
       "4                   20.0  200000.0  \n",
       "..                   ...       ...  \n",
       "370                  8.0   85000.0  \n",
       "371                 19.0  170000.0  \n",
       "372                  2.0   40000.0  \n",
       "373                  7.0   90000.0  \n",
       "374                 15.0  150000.0  \n",
       "\n",
       "[375 rows x 6 columns]"
      ]
     },
     "execution_count": 3,
     "metadata": {},
     "output_type": "execute_result"
    }
   ],
   "source": [
    "salary"
   ]
  },
  {
   "cell_type": "code",
   "execution_count": 4,
   "id": "fe9a00b0",
   "metadata": {},
   "outputs": [
    {
     "data": {
      "text/html": [
       "<div>\n",
       "<style scoped>\n",
       "    .dataframe tbody tr th:only-of-type {\n",
       "        vertical-align: middle;\n",
       "    }\n",
       "\n",
       "    .dataframe tbody tr th {\n",
       "        vertical-align: top;\n",
       "    }\n",
       "\n",
       "    .dataframe thead th {\n",
       "        text-align: right;\n",
       "    }\n",
       "</style>\n",
       "<table border=\"1\" class=\"dataframe\">\n",
       "  <thead>\n",
       "    <tr style=\"text-align: right;\">\n",
       "      <th></th>\n",
       "      <th>Age</th>\n",
       "      <th>Gender</th>\n",
       "      <th>Education Level</th>\n",
       "      <th>Job Title</th>\n",
       "      <th>Years of Experience</th>\n",
       "      <th>Salary</th>\n",
       "    </tr>\n",
       "  </thead>\n",
       "  <tbody>\n",
       "    <tr>\n",
       "      <th>0</th>\n",
       "      <td>32.0</td>\n",
       "      <td>Male</td>\n",
       "      <td>Bachelor's</td>\n",
       "      <td>Software Engineer</td>\n",
       "      <td>5.0</td>\n",
       "      <td>90000.0</td>\n",
       "    </tr>\n",
       "    <tr>\n",
       "      <th>1</th>\n",
       "      <td>28.0</td>\n",
       "      <td>Female</td>\n",
       "      <td>Master's</td>\n",
       "      <td>Data Analyst</td>\n",
       "      <td>3.0</td>\n",
       "      <td>65000.0</td>\n",
       "    </tr>\n",
       "    <tr>\n",
       "      <th>2</th>\n",
       "      <td>45.0</td>\n",
       "      <td>Male</td>\n",
       "      <td>PhD</td>\n",
       "      <td>Senior Manager</td>\n",
       "      <td>15.0</td>\n",
       "      <td>150000.0</td>\n",
       "    </tr>\n",
       "    <tr>\n",
       "      <th>3</th>\n",
       "      <td>36.0</td>\n",
       "      <td>Female</td>\n",
       "      <td>Bachelor's</td>\n",
       "      <td>Sales Associate</td>\n",
       "      <td>7.0</td>\n",
       "      <td>60000.0</td>\n",
       "    </tr>\n",
       "    <tr>\n",
       "      <th>4</th>\n",
       "      <td>52.0</td>\n",
       "      <td>Male</td>\n",
       "      <td>Master's</td>\n",
       "      <td>Director</td>\n",
       "      <td>20.0</td>\n",
       "      <td>200000.0</td>\n",
       "    </tr>\n",
       "  </tbody>\n",
       "</table>\n",
       "</div>"
      ],
      "text/plain": [
       "    Age  Gender Education Level          Job Title  Years of Experience  \\\n",
       "0  32.0    Male      Bachelor's  Software Engineer                  5.0   \n",
       "1  28.0  Female        Master's       Data Analyst                  3.0   \n",
       "2  45.0    Male             PhD     Senior Manager                 15.0   \n",
       "3  36.0  Female      Bachelor's    Sales Associate                  7.0   \n",
       "4  52.0    Male        Master's           Director                 20.0   \n",
       "\n",
       "     Salary  \n",
       "0   90000.0  \n",
       "1   65000.0  \n",
       "2  150000.0  \n",
       "3   60000.0  \n",
       "4  200000.0  "
      ]
     },
     "execution_count": 4,
     "metadata": {},
     "output_type": "execute_result"
    }
   ],
   "source": [
    "salary.head()"
   ]
  },
  {
   "cell_type": "code",
   "execution_count": 5,
   "id": "192e69a3",
   "metadata": {},
   "outputs": [
    {
     "data": {
      "text/plain": [
       "(375, 6)"
      ]
     },
     "execution_count": 5,
     "metadata": {},
     "output_type": "execute_result"
    }
   ],
   "source": [
    "salary.shape"
   ]
  },
  {
   "cell_type": "code",
   "execution_count": 6,
   "id": "fa0b7383",
   "metadata": {},
   "outputs": [
    {
     "name": "stdout",
     "output_type": "stream",
     "text": [
      "<class 'pandas.core.frame.DataFrame'>\n",
      "RangeIndex: 375 entries, 0 to 374\n",
      "Data columns (total 6 columns):\n",
      " #   Column               Non-Null Count  Dtype  \n",
      "---  ------               --------------  -----  \n",
      " 0   Age                  373 non-null    float64\n",
      " 1   Gender               373 non-null    object \n",
      " 2   Education Level      373 non-null    object \n",
      " 3   Job Title            373 non-null    object \n",
      " 4   Years of Experience  373 non-null    float64\n",
      " 5   Salary               373 non-null    float64\n",
      "dtypes: float64(3), object(3)\n",
      "memory usage: 17.7+ KB\n"
     ]
    }
   ],
   "source": [
    "salary.info()"
   ]
  },
  {
   "cell_type": "code",
   "execution_count": 7,
   "id": "baafa231",
   "metadata": {},
   "outputs": [
    {
     "data": {
      "text/html": [
       "<div>\n",
       "<style scoped>\n",
       "    .dataframe tbody tr th:only-of-type {\n",
       "        vertical-align: middle;\n",
       "    }\n",
       "\n",
       "    .dataframe tbody tr th {\n",
       "        vertical-align: top;\n",
       "    }\n",
       "\n",
       "    .dataframe thead th {\n",
       "        text-align: right;\n",
       "    }\n",
       "</style>\n",
       "<table border=\"1\" class=\"dataframe\">\n",
       "  <thead>\n",
       "    <tr style=\"text-align: right;\">\n",
       "      <th></th>\n",
       "      <th>Age</th>\n",
       "      <th>Years of Experience</th>\n",
       "      <th>Salary</th>\n",
       "    </tr>\n",
       "  </thead>\n",
       "  <tbody>\n",
       "    <tr>\n",
       "      <th>count</th>\n",
       "      <td>373.000000</td>\n",
       "      <td>373.000000</td>\n",
       "      <td>373.000000</td>\n",
       "    </tr>\n",
       "    <tr>\n",
       "      <th>mean</th>\n",
       "      <td>37.431635</td>\n",
       "      <td>10.030831</td>\n",
       "      <td>100577.345845</td>\n",
       "    </tr>\n",
       "    <tr>\n",
       "      <th>std</th>\n",
       "      <td>7.069073</td>\n",
       "      <td>6.557007</td>\n",
       "      <td>48240.013482</td>\n",
       "    </tr>\n",
       "    <tr>\n",
       "      <th>min</th>\n",
       "      <td>23.000000</td>\n",
       "      <td>0.000000</td>\n",
       "      <td>350.000000</td>\n",
       "    </tr>\n",
       "    <tr>\n",
       "      <th>25%</th>\n",
       "      <td>31.000000</td>\n",
       "      <td>4.000000</td>\n",
       "      <td>55000.000000</td>\n",
       "    </tr>\n",
       "    <tr>\n",
       "      <th>50%</th>\n",
       "      <td>36.000000</td>\n",
       "      <td>9.000000</td>\n",
       "      <td>95000.000000</td>\n",
       "    </tr>\n",
       "    <tr>\n",
       "      <th>75%</th>\n",
       "      <td>44.000000</td>\n",
       "      <td>15.000000</td>\n",
       "      <td>140000.000000</td>\n",
       "    </tr>\n",
       "    <tr>\n",
       "      <th>max</th>\n",
       "      <td>53.000000</td>\n",
       "      <td>25.000000</td>\n",
       "      <td>250000.000000</td>\n",
       "    </tr>\n",
       "  </tbody>\n",
       "</table>\n",
       "</div>"
      ],
      "text/plain": [
       "              Age  Years of Experience         Salary\n",
       "count  373.000000           373.000000     373.000000\n",
       "mean    37.431635            10.030831  100577.345845\n",
       "std      7.069073             6.557007   48240.013482\n",
       "min     23.000000             0.000000     350.000000\n",
       "25%     31.000000             4.000000   55000.000000\n",
       "50%     36.000000             9.000000   95000.000000\n",
       "75%     44.000000            15.000000  140000.000000\n",
       "max     53.000000            25.000000  250000.000000"
      ]
     },
     "execution_count": 7,
     "metadata": {},
     "output_type": "execute_result"
    }
   ],
   "source": [
    "salary.describe()"
   ]
  },
  {
   "cell_type": "code",
   "execution_count": 8,
   "id": "1d78c6ad",
   "metadata": {},
   "outputs": [],
   "source": [
    "from sklearn.preprocessing import LabelEncoder"
   ]
  },
  {
   "cell_type": "code",
   "execution_count": 9,
   "id": "2e0099c7",
   "metadata": {},
   "outputs": [
    {
     "name": "stdout",
     "output_type": "stream",
     "text": [
      "['Male' 'Female' nan]\n"
     ]
    }
   ],
   "source": [
    "print(salary['Gender'].unique())"
   ]
  },
  {
   "cell_type": "code",
   "execution_count": 10,
   "id": "7ed3d39c",
   "metadata": {},
   "outputs": [
    {
     "name": "stdout",
     "output_type": "stream",
     "text": [
      "[\"Bachelor's\" \"Master's\" 'PhD' nan]\n"
     ]
    }
   ],
   "source": [
    "print(salary['Education Level'].unique())"
   ]
  },
  {
   "cell_type": "code",
   "execution_count": 11,
   "id": "aa545f90",
   "metadata": {},
   "outputs": [
    {
     "name": "stdout",
     "output_type": "stream",
     "text": [
      "['Software Engineer' 'Data Analyst' 'Senior Manager' 'Sales Associate'\n",
      " 'Director' 'Marketing Analyst' 'Product Manager' 'Sales Manager'\n",
      " 'Marketing Coordinator' 'Senior Scientist' 'Software Developer'\n",
      " 'HR Manager' 'Financial Analyst' 'Project Manager' 'Customer Service Rep'\n",
      " 'Operations Manager' 'Marketing Manager' 'Senior Engineer'\n",
      " 'Data Entry Clerk' 'Sales Director' 'Business Analyst' 'VP of Operations'\n",
      " 'IT Support' 'Recruiter' 'Financial Manager' 'Social Media Specialist'\n",
      " 'Software Manager' 'Junior Developer' 'Senior Consultant'\n",
      " 'Product Designer' 'CEO' 'Accountant' 'Data Scientist'\n",
      " 'Marketing Specialist' 'Technical Writer' 'HR Generalist'\n",
      " 'Project Engineer' 'Customer Success Rep' 'Sales Executive' 'UX Designer'\n",
      " 'Operations Director' 'Network Engineer' 'Administrative Assistant'\n",
      " 'Strategy Consultant' 'Copywriter' 'Account Manager'\n",
      " 'Director of Marketing' 'Help Desk Analyst' 'Customer Service Manager'\n",
      " 'Business Intelligence Analyst' 'Event Coordinator' 'VP of Finance'\n",
      " 'Graphic Designer' 'UX Researcher' 'Social Media Manager'\n",
      " 'Director of Operations' 'Senior Data Scientist' 'Junior Accountant'\n",
      " 'Digital Marketing Manager' 'IT Manager'\n",
      " 'Customer Service Representative' 'Business Development Manager'\n",
      " 'Senior Financial Analyst' 'Web Developer' 'Research Director'\n",
      " 'Technical Support Specialist' 'Creative Director'\n",
      " 'Senior Software Engineer' 'Human Resources Director'\n",
      " 'Content Marketing Manager' 'Technical Recruiter' 'Sales Representative'\n",
      " 'Chief Technology Officer' 'Junior Designer' 'Financial Advisor'\n",
      " 'Junior Account Manager' 'Senior Project Manager' 'Principal Scientist'\n",
      " 'Supply Chain Manager' 'Senior Marketing Manager' 'Training Specialist'\n",
      " 'Research Scientist' 'Junior Software Developer'\n",
      " 'Public Relations Manager' 'Operations Analyst'\n",
      " 'Product Marketing Manager' 'Senior HR Manager' 'Junior Web Developer'\n",
      " 'Senior Project Coordinator' 'Chief Data Officer'\n",
      " 'Digital Content Producer' 'IT Support Specialist'\n",
      " 'Senior Marketing Analyst' 'Customer Success Manager'\n",
      " 'Senior Graphic Designer' 'Software Project Manager'\n",
      " 'Supply Chain Analyst' 'Senior Business Analyst'\n",
      " 'Junior Marketing Analyst' 'Office Manager' 'Principal Engineer'\n",
      " 'Junior HR Generalist' 'Senior Product Manager'\n",
      " 'Junior Operations Analyst' 'Senior HR Generalist'\n",
      " 'Sales Operations Manager' 'Senior Software Developer'\n",
      " 'Junior Web Designer' 'Senior Training Specialist'\n",
      " 'Senior Research Scientist' 'Junior Sales Representative'\n",
      " 'Junior Marketing Manager' 'Junior Data Analyst'\n",
      " 'Senior Product Marketing Manager' 'Junior Business Analyst'\n",
      " 'Senior Sales Manager' 'Junior Marketing Specialist'\n",
      " 'Junior Project Manager' 'Senior Accountant' 'Director of Sales'\n",
      " 'Junior Recruiter' 'Senior Business Development Manager'\n",
      " 'Senior Product Designer' 'Junior Customer Support Specialist'\n",
      " 'Senior IT Support Specialist' 'Junior Financial Analyst'\n",
      " 'Senior Operations Manager' 'Director of Human Resources'\n",
      " 'Junior Software Engineer' 'Senior Sales Representative'\n",
      " 'Director of Product Management' 'Junior Copywriter'\n",
      " 'Senior Marketing Coordinator' 'Senior Human Resources Manager'\n",
      " 'Junior Business Development Associate' 'Senior Account Manager'\n",
      " 'Senior Researcher' 'Junior HR Coordinator' 'Director of Finance'\n",
      " 'Junior Marketing Coordinator' nan 'Junior Data Scientist'\n",
      " 'Senior Operations Analyst' 'Senior Human Resources Coordinator'\n",
      " 'Senior UX Designer' 'Junior Product Manager'\n",
      " 'Senior Marketing Specialist' 'Senior IT Project Manager'\n",
      " 'Senior Quality Assurance Analyst' 'Director of Sales and Marketing'\n",
      " 'Senior Account Executive' 'Director of Business Development'\n",
      " 'Junior Social Media Manager' 'Senior Human Resources Specialist'\n",
      " 'Senior Data Analyst' 'Director of Human Capital'\n",
      " 'Junior Advertising Coordinator' 'Junior UX Designer'\n",
      " 'Senior Marketing Director' 'Senior IT Consultant'\n",
      " 'Senior Financial Advisor' 'Junior Business Operations Analyst'\n",
      " 'Junior Social Media Specialist' 'Senior Product Development Manager'\n",
      " 'Junior Operations Manager' 'Senior Software Architect'\n",
      " 'Junior Research Scientist' 'Senior Financial Manager'\n",
      " 'Senior HR Specialist' 'Senior Data Engineer'\n",
      " 'Junior Operations Coordinator' 'Director of HR'\n",
      " 'Senior Operations Coordinator' 'Junior Financial Advisor'\n",
      " 'Director of Engineering']\n"
     ]
    }
   ],
   "source": [
    "print(salary['Job Title'].unique())"
   ]
  },
  {
   "cell_type": "code",
   "execution_count": 12,
   "id": "c25f2631",
   "metadata": {},
   "outputs": [
    {
     "data": {
      "text/plain": [
       "Director of Marketing              12\n",
       "Director of Operations             11\n",
       "Senior Business Analyst            10\n",
       "Senior Marketing Analyst            9\n",
       "Senior Marketing Manager            9\n",
       "                                   ..\n",
       "Business Development Manager        1\n",
       "Customer Service Representative     1\n",
       "IT Manager                          1\n",
       "Digital Marketing Manager           1\n",
       "Junior Web Developer                1\n",
       "Name: Job Title, Length: 174, dtype: int64"
      ]
     },
     "execution_count": 12,
     "metadata": {},
     "output_type": "execute_result"
    }
   ],
   "source": [
    "salary[\"Job Title\"].value_counts()"
   ]
  },
  {
   "cell_type": "code",
   "execution_count": 13,
   "id": "47b5a301",
   "metadata": {},
   "outputs": [
    {
     "data": {
      "text/html": [
       "<div>\n",
       "<style scoped>\n",
       "    .dataframe tbody tr th:only-of-type {\n",
       "        vertical-align: middle;\n",
       "    }\n",
       "\n",
       "    .dataframe tbody tr th {\n",
       "        vertical-align: top;\n",
       "    }\n",
       "\n",
       "    .dataframe thead th {\n",
       "        text-align: right;\n",
       "    }\n",
       "</style>\n",
       "<table border=\"1\" class=\"dataframe\">\n",
       "  <thead>\n",
       "    <tr style=\"text-align: right;\">\n",
       "      <th></th>\n",
       "      <th>Age</th>\n",
       "      <th>Gender</th>\n",
       "      <th>Education Level</th>\n",
       "      <th>Job Title</th>\n",
       "      <th>Years of Experience</th>\n",
       "      <th>Salary</th>\n",
       "    </tr>\n",
       "  </thead>\n",
       "  <tbody>\n",
       "    <tr>\n",
       "      <th>0</th>\n",
       "      <td>32.0</td>\n",
       "      <td>Male</td>\n",
       "      <td>Bachelor's</td>\n",
       "      <td>Software Engineer</td>\n",
       "      <td>5.0</td>\n",
       "      <td>90000.0</td>\n",
       "    </tr>\n",
       "    <tr>\n",
       "      <th>1</th>\n",
       "      <td>28.0</td>\n",
       "      <td>Female</td>\n",
       "      <td>Master's</td>\n",
       "      <td>Data Analyst</td>\n",
       "      <td>3.0</td>\n",
       "      <td>65000.0</td>\n",
       "    </tr>\n",
       "    <tr>\n",
       "      <th>2</th>\n",
       "      <td>45.0</td>\n",
       "      <td>Male</td>\n",
       "      <td>PhD</td>\n",
       "      <td>Senior Manager</td>\n",
       "      <td>15.0</td>\n",
       "      <td>150000.0</td>\n",
       "    </tr>\n",
       "    <tr>\n",
       "      <th>3</th>\n",
       "      <td>36.0</td>\n",
       "      <td>Female</td>\n",
       "      <td>Bachelor's</td>\n",
       "      <td>Sales Associate</td>\n",
       "      <td>7.0</td>\n",
       "      <td>60000.0</td>\n",
       "    </tr>\n",
       "    <tr>\n",
       "      <th>4</th>\n",
       "      <td>52.0</td>\n",
       "      <td>Male</td>\n",
       "      <td>Master's</td>\n",
       "      <td>Director</td>\n",
       "      <td>20.0</td>\n",
       "      <td>200000.0</td>\n",
       "    </tr>\n",
       "    <tr>\n",
       "      <th>...</th>\n",
       "      <td>...</td>\n",
       "      <td>...</td>\n",
       "      <td>...</td>\n",
       "      <td>...</td>\n",
       "      <td>...</td>\n",
       "      <td>...</td>\n",
       "    </tr>\n",
       "    <tr>\n",
       "      <th>348</th>\n",
       "      <td>28.0</td>\n",
       "      <td>Female</td>\n",
       "      <td>Bachelor's</td>\n",
       "      <td>Junior Operations Manager</td>\n",
       "      <td>1.0</td>\n",
       "      <td>35000.0</td>\n",
       "    </tr>\n",
       "    <tr>\n",
       "      <th>349</th>\n",
       "      <td>36.0</td>\n",
       "      <td>Male</td>\n",
       "      <td>Bachelor's</td>\n",
       "      <td>Senior Business Development Manager</td>\n",
       "      <td>8.0</td>\n",
       "      <td>110000.0</td>\n",
       "    </tr>\n",
       "    <tr>\n",
       "      <th>350</th>\n",
       "      <td>44.0</td>\n",
       "      <td>Female</td>\n",
       "      <td>PhD</td>\n",
       "      <td>Senior Data Scientist</td>\n",
       "      <td>16.0</td>\n",
       "      <td>160000.0</td>\n",
       "    </tr>\n",
       "    <tr>\n",
       "      <th>351</th>\n",
       "      <td>31.0</td>\n",
       "      <td>Male</td>\n",
       "      <td>Bachelor's</td>\n",
       "      <td>Junior Marketing Coordinator</td>\n",
       "      <td>3.0</td>\n",
       "      <td>55000.0</td>\n",
       "    </tr>\n",
       "    <tr>\n",
       "      <th>371</th>\n",
       "      <td>43.0</td>\n",
       "      <td>Male</td>\n",
       "      <td>Master's</td>\n",
       "      <td>Director of Operations</td>\n",
       "      <td>19.0</td>\n",
       "      <td>170000.0</td>\n",
       "    </tr>\n",
       "  </tbody>\n",
       "</table>\n",
       "<p>324 rows × 6 columns</p>\n",
       "</div>"
      ],
      "text/plain": [
       "      Age  Gender Education Level                            Job Title  \\\n",
       "0    32.0    Male      Bachelor's                    Software Engineer   \n",
       "1    28.0  Female        Master's                         Data Analyst   \n",
       "2    45.0    Male             PhD                       Senior Manager   \n",
       "3    36.0  Female      Bachelor's                      Sales Associate   \n",
       "4    52.0    Male        Master's                             Director   \n",
       "..    ...     ...             ...                                  ...   \n",
       "348  28.0  Female      Bachelor's            Junior Operations Manager   \n",
       "349  36.0    Male      Bachelor's  Senior Business Development Manager   \n",
       "350  44.0  Female             PhD                Senior Data Scientist   \n",
       "351  31.0    Male      Bachelor's         Junior Marketing Coordinator   \n",
       "371  43.0    Male        Master's               Director of Operations   \n",
       "\n",
       "     Years of Experience    Salary  \n",
       "0                    5.0   90000.0  \n",
       "1                    3.0   65000.0  \n",
       "2                   15.0  150000.0  \n",
       "3                    7.0   60000.0  \n",
       "4                   20.0  200000.0  \n",
       "..                   ...       ...  \n",
       "348                  1.0   35000.0  \n",
       "349                  8.0  110000.0  \n",
       "350                 16.0  160000.0  \n",
       "351                  3.0   55000.0  \n",
       "371                 19.0  170000.0  \n",
       "\n",
       "[324 rows x 6 columns]"
      ]
     },
     "execution_count": 13,
     "metadata": {},
     "output_type": "execute_result"
    }
   ],
   "source": [
    "salary.dropna(inplace=True)\n",
    "salary.drop_duplicates()"
   ]
  },
  {
   "cell_type": "code",
   "execution_count": 14,
   "id": "40f73553",
   "metadata": {},
   "outputs": [],
   "source": [
    "g_LE= LabelEncoder()\n",
    "salary['Gender']=g_LE.fit_transform(salary['Gender'])\n",
    "\n",
    "\n",
    "e_LE = LabelEncoder()\n",
    "salary['Education Level'] = e_LE.fit_transform(salary['Education Level'])\n",
    "\n",
    "\n",
    "j_EC = LabelEncoder()\n",
    "salary['Job Title']=j_EC.fit_transform(salary['Job Title'])"
   ]
  },
  {
   "cell_type": "code",
   "execution_count": 15,
   "id": "243cf6d7",
   "metadata": {},
   "outputs": [
    {
     "name": "stdout",
     "output_type": "stream",
     "text": [
      "[1 0]\n"
     ]
    }
   ],
   "source": [
    "print(salary['Gender'].unique())"
   ]
  },
  {
   "cell_type": "code",
   "execution_count": 16,
   "id": "d5bf8a48",
   "metadata": {},
   "outputs": [
    {
     "name": "stdout",
     "output_type": "stream",
     "text": [
      "[32. 28. 45. 36. 52. 29. 42. 31. 26. 38. 48. 35. 40. 27. 44. 33. 39. 25.\n",
      " 51. 34. 47. 30. 41. 37. 24. 43. 50. 46. 49. 23. 53.]\n"
     ]
    }
   ],
   "source": [
    "print(salary['Age'].unique())"
   ]
  },
  {
   "cell_type": "code",
   "execution_count": 17,
   "id": "521b63ee",
   "metadata": {},
   "outputs": [
    {
     "name": "stdout",
     "output_type": "stream",
     "text": [
      "[ 5.   3.  15.   7.  20.   2.  12.   4.   1.  10.  18.   6.  14.  16.\n",
      "  0.  22.  19.   9.  13.  11.  25.  21.   8.  17.  23.  24.   0.5  1.5]\n"
     ]
    }
   ],
   "source": [
    "print(salary['Years of Experience'].unique())"
   ]
  },
  {
   "cell_type": "code",
   "execution_count": 18,
   "id": "086f0ebe",
   "metadata": {},
   "outputs": [
    {
     "name": "stdout",
     "output_type": "stream",
     "text": [
      "[0 1 2]\n"
     ]
    }
   ],
   "source": [
    "print(salary['Education Level'].unique())"
   ]
  },
  {
   "cell_type": "code",
   "execution_count": 19,
   "id": "54003303",
   "metadata": {},
   "outputs": [
    {
     "name": "stdout",
     "output_type": "stream",
     "text": [
      "[159  17 130 101  22  81  93 104  82 150 158  40  36  96  13  89  83 116\n",
      "  18 102   3 172  44  98  37 157 160  57 112  92   6   1  19  84 167  39\n",
      "  95  16 103 169  88  85   2 162  10   0  29  41  12   5  34 171  38 170\n",
      " 156  30 115  47  21  43  14   4 118 173  99 166  11 153  42   9 165 106\n",
      "   8  56  35  46 144  91 164 134 168 100  76  97  87  94 122  80 143   7\n",
      "  20  45 131  15 120 161 163 110  62  86  90  61 141  66 121 105 152  79\n",
      " 154 146  73  64  54 142  49 148  65  70 109  32  71 111 139  53 129  59\n",
      " 138  28  77 149  31  52 132 125  50 108 147  60  25  63  55 136 124 155\n",
      "  69 135 128 145  33 107  23  74 126 113  27  48  78 133 127 117  51  75\n",
      " 140  68 151  72 119 123 114  67  26 137  58  24]\n"
     ]
    }
   ],
   "source": [
    "print(salary['Job Title'].unique())"
   ]
  },
  {
   "cell_type": "code",
   "execution_count": 20,
   "id": "bc5b8fcc",
   "metadata": {},
   "outputs": [],
   "source": [
    "X = salary.drop(['Salary'],axis=1)"
   ]
  },
  {
   "cell_type": "code",
   "execution_count": 21,
   "id": "cbc2f33f",
   "metadata": {},
   "outputs": [],
   "source": [
    "y = salary['Salary']"
   ]
  },
  {
   "cell_type": "code",
   "execution_count": 22,
   "id": "07ba0089",
   "metadata": {},
   "outputs": [
    {
     "data": {
      "text/html": [
       "<div>\n",
       "<style scoped>\n",
       "    .dataframe tbody tr th:only-of-type {\n",
       "        vertical-align: middle;\n",
       "    }\n",
       "\n",
       "    .dataframe tbody tr th {\n",
       "        vertical-align: top;\n",
       "    }\n",
       "\n",
       "    .dataframe thead th {\n",
       "        text-align: right;\n",
       "    }\n",
       "</style>\n",
       "<table border=\"1\" class=\"dataframe\">\n",
       "  <thead>\n",
       "    <tr style=\"text-align: right;\">\n",
       "      <th></th>\n",
       "      <th>Age</th>\n",
       "      <th>Gender</th>\n",
       "      <th>Education Level</th>\n",
       "      <th>Job Title</th>\n",
       "      <th>Years of Experience</th>\n",
       "    </tr>\n",
       "  </thead>\n",
       "  <tbody>\n",
       "    <tr>\n",
       "      <th>0</th>\n",
       "      <td>32.0</td>\n",
       "      <td>1</td>\n",
       "      <td>0</td>\n",
       "      <td>159</td>\n",
       "      <td>5.0</td>\n",
       "    </tr>\n",
       "    <tr>\n",
       "      <th>1</th>\n",
       "      <td>28.0</td>\n",
       "      <td>0</td>\n",
       "      <td>1</td>\n",
       "      <td>17</td>\n",
       "      <td>3.0</td>\n",
       "    </tr>\n",
       "    <tr>\n",
       "      <th>2</th>\n",
       "      <td>45.0</td>\n",
       "      <td>1</td>\n",
       "      <td>2</td>\n",
       "      <td>130</td>\n",
       "      <td>15.0</td>\n",
       "    </tr>\n",
       "    <tr>\n",
       "      <th>3</th>\n",
       "      <td>36.0</td>\n",
       "      <td>0</td>\n",
       "      <td>0</td>\n",
       "      <td>101</td>\n",
       "      <td>7.0</td>\n",
       "    </tr>\n",
       "    <tr>\n",
       "      <th>4</th>\n",
       "      <td>52.0</td>\n",
       "      <td>1</td>\n",
       "      <td>1</td>\n",
       "      <td>22</td>\n",
       "      <td>20.0</td>\n",
       "    </tr>\n",
       "    <tr>\n",
       "      <th>...</th>\n",
       "      <td>...</td>\n",
       "      <td>...</td>\n",
       "      <td>...</td>\n",
       "      <td>...</td>\n",
       "      <td>...</td>\n",
       "    </tr>\n",
       "    <tr>\n",
       "      <th>370</th>\n",
       "      <td>35.0</td>\n",
       "      <td>0</td>\n",
       "      <td>0</td>\n",
       "      <td>131</td>\n",
       "      <td>8.0</td>\n",
       "    </tr>\n",
       "    <tr>\n",
       "      <th>371</th>\n",
       "      <td>43.0</td>\n",
       "      <td>1</td>\n",
       "      <td>1</td>\n",
       "      <td>30</td>\n",
       "      <td>19.0</td>\n",
       "    </tr>\n",
       "    <tr>\n",
       "      <th>372</th>\n",
       "      <td>29.0</td>\n",
       "      <td>0</td>\n",
       "      <td>0</td>\n",
       "      <td>70</td>\n",
       "      <td>2.0</td>\n",
       "    </tr>\n",
       "    <tr>\n",
       "      <th>373</th>\n",
       "      <td>34.0</td>\n",
       "      <td>1</td>\n",
       "      <td>0</td>\n",
       "      <td>137</td>\n",
       "      <td>7.0</td>\n",
       "    </tr>\n",
       "    <tr>\n",
       "      <th>374</th>\n",
       "      <td>44.0</td>\n",
       "      <td>0</td>\n",
       "      <td>2</td>\n",
       "      <td>110</td>\n",
       "      <td>15.0</td>\n",
       "    </tr>\n",
       "  </tbody>\n",
       "</table>\n",
       "<p>373 rows × 5 columns</p>\n",
       "</div>"
      ],
      "text/plain": [
       "      Age  Gender  Education Level  Job Title  Years of Experience\n",
       "0    32.0       1                0        159                  5.0\n",
       "1    28.0       0                1         17                  3.0\n",
       "2    45.0       1                2        130                 15.0\n",
       "3    36.0       0                0        101                  7.0\n",
       "4    52.0       1                1         22                 20.0\n",
       "..    ...     ...              ...        ...                  ...\n",
       "370  35.0       0                0        131                  8.0\n",
       "371  43.0       1                1         30                 19.0\n",
       "372  29.0       0                0         70                  2.0\n",
       "373  34.0       1                0        137                  7.0\n",
       "374  44.0       0                2        110                 15.0\n",
       "\n",
       "[373 rows x 5 columns]"
      ]
     },
     "execution_count": 22,
     "metadata": {},
     "output_type": "execute_result"
    }
   ],
   "source": [
    "X"
   ]
  },
  {
   "cell_type": "code",
   "execution_count": 23,
   "id": "7a887a3c",
   "metadata": {},
   "outputs": [
    {
     "data": {
      "text/plain": [
       "0       90000.0\n",
       "1       65000.0\n",
       "2      150000.0\n",
       "3       60000.0\n",
       "4      200000.0\n",
       "         ...   \n",
       "370     85000.0\n",
       "371    170000.0\n",
       "372     40000.0\n",
       "373     90000.0\n",
       "374    150000.0\n",
       "Name: Salary, Length: 373, dtype: float64"
      ]
     },
     "execution_count": 23,
     "metadata": {},
     "output_type": "execute_result"
    }
   ],
   "source": [
    "y"
   ]
  },
  {
   "cell_type": "code",
   "execution_count": 24,
   "id": "2dfa5955",
   "metadata": {},
   "outputs": [],
   "source": [
    "from sklearn.model_selection import train_test_split"
   ]
  },
  {
   "cell_type": "code",
   "execution_count": 25,
   "id": "81140386",
   "metadata": {},
   "outputs": [],
   "source": [
    "X_train, X_test, y_train, y_test = train_test_split(X, y, test_size=0.4, random_state=101)"
   ]
  },
  {
   "cell_type": "code",
   "execution_count": 26,
   "id": "225d993b",
   "metadata": {},
   "outputs": [
    {
     "data": {
      "text/html": [
       "<div>\n",
       "<style scoped>\n",
       "    .dataframe tbody tr th:only-of-type {\n",
       "        vertical-align: middle;\n",
       "    }\n",
       "\n",
       "    .dataframe tbody tr th {\n",
       "        vertical-align: top;\n",
       "    }\n",
       "\n",
       "    .dataframe thead th {\n",
       "        text-align: right;\n",
       "    }\n",
       "</style>\n",
       "<table border=\"1\" class=\"dataframe\">\n",
       "  <thead>\n",
       "    <tr style=\"text-align: right;\">\n",
       "      <th></th>\n",
       "      <th>Age</th>\n",
       "      <th>Gender</th>\n",
       "      <th>Education Level</th>\n",
       "      <th>Job Title</th>\n",
       "      <th>Years of Experience</th>\n",
       "    </tr>\n",
       "  </thead>\n",
       "  <tbody>\n",
       "    <tr>\n",
       "      <th>256</th>\n",
       "      <td>34.0</td>\n",
       "      <td>0</td>\n",
       "      <td>1</td>\n",
       "      <td>117</td>\n",
       "      <td>6.0</td>\n",
       "    </tr>\n",
       "    <tr>\n",
       "      <th>135</th>\n",
       "      <td>39.0</td>\n",
       "      <td>0</td>\n",
       "      <td>0</td>\n",
       "      <td>2</td>\n",
       "      <td>10.0</td>\n",
       "    </tr>\n",
       "    <tr>\n",
       "      <th>273</th>\n",
       "      <td>47.0</td>\n",
       "      <td>0</td>\n",
       "      <td>1</td>\n",
       "      <td>29</td>\n",
       "      <td>20.0</td>\n",
       "    </tr>\n",
       "    <tr>\n",
       "      <th>83</th>\n",
       "      <td>52.0</td>\n",
       "      <td>1</td>\n",
       "      <td>2</td>\n",
       "      <td>8</td>\n",
       "      <td>24.0</td>\n",
       "    </tr>\n",
       "    <tr>\n",
       "      <th>248</th>\n",
       "      <td>41.0</td>\n",
       "      <td>0</td>\n",
       "      <td>0</td>\n",
       "      <td>143</td>\n",
       "      <td>11.0</td>\n",
       "    </tr>\n",
       "    <tr>\n",
       "      <th>...</th>\n",
       "      <td>...</td>\n",
       "      <td>...</td>\n",
       "      <td>...</td>\n",
       "      <td>...</td>\n",
       "      <td>...</td>\n",
       "    </tr>\n",
       "    <tr>\n",
       "      <th>63</th>\n",
       "      <td>47.0</td>\n",
       "      <td>1</td>\n",
       "      <td>2</td>\n",
       "      <td>115</td>\n",
       "      <td>21.0</td>\n",
       "    </tr>\n",
       "    <tr>\n",
       "      <th>328</th>\n",
       "      <td>38.0</td>\n",
       "      <td>0</td>\n",
       "      <td>0</td>\n",
       "      <td>110</td>\n",
       "      <td>10.0</td>\n",
       "    </tr>\n",
       "    <tr>\n",
       "      <th>339</th>\n",
       "      <td>33.0</td>\n",
       "      <td>1</td>\n",
       "      <td>0</td>\n",
       "      <td>65</td>\n",
       "      <td>5.0</td>\n",
       "    </tr>\n",
       "    <tr>\n",
       "      <th>11</th>\n",
       "      <td>48.0</td>\n",
       "      <td>0</td>\n",
       "      <td>0</td>\n",
       "      <td>40</td>\n",
       "      <td>18.0</td>\n",
       "    </tr>\n",
       "    <tr>\n",
       "      <th>353</th>\n",
       "      <td>48.0</td>\n",
       "      <td>1</td>\n",
       "      <td>1</td>\n",
       "      <td>29</td>\n",
       "      <td>21.0</td>\n",
       "    </tr>\n",
       "  </tbody>\n",
       "</table>\n",
       "<p>223 rows × 5 columns</p>\n",
       "</div>"
      ],
      "text/plain": [
       "      Age  Gender  Education Level  Job Title  Years of Experience\n",
       "256  34.0       0                1        117                  6.0\n",
       "135  39.0       0                0          2                 10.0\n",
       "273  47.0       0                1         29                 20.0\n",
       "83   52.0       1                2          8                 24.0\n",
       "248  41.0       0                0        143                 11.0\n",
       "..    ...     ...              ...        ...                  ...\n",
       "63   47.0       1                2        115                 21.0\n",
       "328  38.0       0                0        110                 10.0\n",
       "339  33.0       1                0         65                  5.0\n",
       "11   48.0       0                0         40                 18.0\n",
       "353  48.0       1                1         29                 21.0\n",
       "\n",
       "[223 rows x 5 columns]"
      ]
     },
     "execution_count": 26,
     "metadata": {},
     "output_type": "execute_result"
    }
   ],
   "source": [
    "X_train"
   ]
  },
  {
   "cell_type": "code",
   "execution_count": 27,
   "id": "d4dc9650",
   "metadata": {},
   "outputs": [
    {
     "data": {
      "text/html": [
       "<div>\n",
       "<style scoped>\n",
       "    .dataframe tbody tr th:only-of-type {\n",
       "        vertical-align: middle;\n",
       "    }\n",
       "\n",
       "    .dataframe tbody tr th {\n",
       "        vertical-align: top;\n",
       "    }\n",
       "\n",
       "    .dataframe thead th {\n",
       "        text-align: right;\n",
       "    }\n",
       "</style>\n",
       "<table border=\"1\" class=\"dataframe\">\n",
       "  <thead>\n",
       "    <tr style=\"text-align: right;\">\n",
       "      <th></th>\n",
       "      <th>Age</th>\n",
       "      <th>Gender</th>\n",
       "      <th>Education Level</th>\n",
       "      <th>Job Title</th>\n",
       "      <th>Years of Experience</th>\n",
       "    </tr>\n",
       "  </thead>\n",
       "  <tbody>\n",
       "    <tr>\n",
       "      <th>169</th>\n",
       "      <td>34.0</td>\n",
       "      <td>1</td>\n",
       "      <td>1</td>\n",
       "      <td>153</td>\n",
       "      <td>9.0</td>\n",
       "    </tr>\n",
       "    <tr>\n",
       "      <th>38</th>\n",
       "      <td>26.0</td>\n",
       "      <td>0</td>\n",
       "      <td>0</td>\n",
       "      <td>16</td>\n",
       "      <td>1.0</td>\n",
       "    </tr>\n",
       "    <tr>\n",
       "      <th>89</th>\n",
       "      <td>31.0</td>\n",
       "      <td>0</td>\n",
       "      <td>0</td>\n",
       "      <td>82</td>\n",
       "      <td>6.0</td>\n",
       "    </tr>\n",
       "    <tr>\n",
       "      <th>168</th>\n",
       "      <td>31.0</td>\n",
       "      <td>0</td>\n",
       "      <td>0</td>\n",
       "      <td>60</td>\n",
       "      <td>4.0</td>\n",
       "    </tr>\n",
       "    <tr>\n",
       "      <th>235</th>\n",
       "      <td>32.0</td>\n",
       "      <td>1</td>\n",
       "      <td>0</td>\n",
       "      <td>73</td>\n",
       "      <td>3.0</td>\n",
       "    </tr>\n",
       "    <tr>\n",
       "      <th>...</th>\n",
       "      <td>...</td>\n",
       "      <td>...</td>\n",
       "      <td>...</td>\n",
       "      <td>...</td>\n",
       "      <td>...</td>\n",
       "    </tr>\n",
       "    <tr>\n",
       "      <th>20</th>\n",
       "      <td>34.0</td>\n",
       "      <td>0</td>\n",
       "      <td>1</td>\n",
       "      <td>3</td>\n",
       "      <td>5.0</td>\n",
       "    </tr>\n",
       "    <tr>\n",
       "      <th>119</th>\n",
       "      <td>35.0</td>\n",
       "      <td>1</td>\n",
       "      <td>1</td>\n",
       "      <td>141</td>\n",
       "      <td>10.0</td>\n",
       "    </tr>\n",
       "    <tr>\n",
       "      <th>167</th>\n",
       "      <td>46.0</td>\n",
       "      <td>1</td>\n",
       "      <td>2</td>\n",
       "      <td>147</td>\n",
       "      <td>18.0</td>\n",
       "    </tr>\n",
       "    <tr>\n",
       "      <th>323</th>\n",
       "      <td>47.0</td>\n",
       "      <td>1</td>\n",
       "      <td>2</td>\n",
       "      <td>24</td>\n",
       "      <td>20.0</td>\n",
       "    </tr>\n",
       "    <tr>\n",
       "      <th>362</th>\n",
       "      <td>44.0</td>\n",
       "      <td>0</td>\n",
       "      <td>2</td>\n",
       "      <td>110</td>\n",
       "      <td>15.0</td>\n",
       "    </tr>\n",
       "  </tbody>\n",
       "</table>\n",
       "<p>150 rows × 5 columns</p>\n",
       "</div>"
      ],
      "text/plain": [
       "      Age  Gender  Education Level  Job Title  Years of Experience\n",
       "169  34.0       1                1        153                  9.0\n",
       "38   26.0       0                0         16                  1.0\n",
       "89   31.0       0                0         82                  6.0\n",
       "168  31.0       0                0         60                  4.0\n",
       "235  32.0       1                0         73                  3.0\n",
       "..    ...     ...              ...        ...                  ...\n",
       "20   34.0       0                1          3                  5.0\n",
       "119  35.0       1                1        141                 10.0\n",
       "167  46.0       1                2        147                 18.0\n",
       "323  47.0       1                2         24                 20.0\n",
       "362  44.0       0                2        110                 15.0\n",
       "\n",
       "[150 rows x 5 columns]"
      ]
     },
     "execution_count": 27,
     "metadata": {},
     "output_type": "execute_result"
    }
   ],
   "source": [
    "X_test"
   ]
  },
  {
   "cell_type": "code",
   "execution_count": 28,
   "id": "72692e05",
   "metadata": {},
   "outputs": [
    {
     "data": {
      "text/plain": [
       "256    100000.0\n",
       "135     55000.0\n",
       "273    180000.0\n",
       "83     250000.0\n",
       "248     95000.0\n",
       "         ...   \n",
       "63     180000.0\n",
       "328    110000.0\n",
       "339     70000.0\n",
       "11     140000.0\n",
       "353    180000.0\n",
       "Name: Salary, Length: 223, dtype: float64"
      ]
     },
     "execution_count": 28,
     "metadata": {},
     "output_type": "execute_result"
    }
   ],
   "source": [
    "y_train"
   ]
  },
  {
   "cell_type": "code",
   "execution_count": 29,
   "id": "0255a2e2",
   "metadata": {},
   "outputs": [
    {
     "data": {
      "text/plain": [
       "169    105000.0\n",
       "38      40000.0\n",
       "89      55000.0\n",
       "168     50000.0\n",
       "235     45000.0\n",
       "         ...   \n",
       "20      80000.0\n",
       "119    120000.0\n",
       "167    150000.0\n",
       "323    180000.0\n",
       "362    150000.0\n",
       "Name: Salary, Length: 150, dtype: float64"
      ]
     },
     "execution_count": 29,
     "metadata": {},
     "output_type": "execute_result"
    }
   ],
   "source": [
    "y_test"
   ]
  },
  {
   "cell_type": "code",
   "execution_count": 30,
   "id": "308edc35",
   "metadata": {},
   "outputs": [],
   "source": [
    "from sklearn.linear_model import LinearRegression"
   ]
  },
  {
   "cell_type": "code",
   "execution_count": 31,
   "id": "1e95c082",
   "metadata": {},
   "outputs": [],
   "source": [
    "lm = LinearRegression()"
   ]
  },
  {
   "cell_type": "code",
   "execution_count": 32,
   "id": "6032ec82",
   "metadata": {},
   "outputs": [
    {
     "data": {
      "text/plain": [
       "LinearRegression()"
      ]
     },
     "execution_count": 32,
     "metadata": {},
     "output_type": "execute_result"
    }
   ],
   "source": [
    "lm.fit(X_train,y_train)"
   ]
  },
  {
   "cell_type": "code",
   "execution_count": 33,
   "id": "0cd66afd",
   "metadata": {},
   "outputs": [
    {
     "data": {
      "text/plain": [
       "0.9137641579426444"
      ]
     },
     "execution_count": 33,
     "metadata": {},
     "output_type": "execute_result"
    }
   ],
   "source": [
    "lm.score(X_test, y_test)"
   ]
  },
  {
   "cell_type": "code",
   "execution_count": 34,
   "id": "d95b095a",
   "metadata": {},
   "outputs": [
    {
     "name": "stdout",
     "output_type": "stream",
     "text": [
      "Model Score 91.37641579426445\n"
     ]
    }
   ],
   "source": [
    "print(\"Model Score\", lm.score(X_test, y_test)*100)"
   ]
  },
  {
   "cell_type": "markdown",
   "id": "7d82c4fc",
   "metadata": {},
   "source": [
    "### GRADIO GUI "
   ]
  },
  {
   "cell_type": "code",
   "execution_count": 35,
   "id": "8f2b4aea",
   "metadata": {
    "scrolled": false
   },
   "outputs": [
    {
     "name": "stderr",
     "output_type": "stream",
     "text": [
      "C:\\Users\\imaye\\anaconda3\\lib\\site-packages\\gradio\\inputs.py:59: UserWarning: Usage of gradio.inputs is deprecated, and will not be supported in the future, please import your component from gradio.components\n",
      "  warnings.warn(\n",
      "C:\\Users\\imaye\\anaconda3\\lib\\site-packages\\gradio\\deprecation.py:40: UserWarning: `optional` parameter is deprecated, and it has no effect\n",
      "  warnings.warn(value)\n",
      "C:\\Users\\imaye\\anaconda3\\lib\\site-packages\\gradio\\inputs.py:183: UserWarning: Usage of gradio.inputs is deprecated, and will not be supported in the future, please import your component from gradio.components\n",
      "  warnings.warn(\n",
      "C:\\Users\\imaye\\anaconda3\\lib\\site-packages\\gradio\\inputs.py:217: UserWarning: Usage of gradio.inputs is deprecated, and will not be supported in the future, please import your component from gradio.components\n",
      "  warnings.warn(\n",
      "C:\\Users\\imaye\\anaconda3\\lib\\site-packages\\gradio\\outputs.py:22: UserWarning: Usage of gradio.outputs is deprecated, and will not be supported in the future, please import your components from gradio.components\n",
      "  warnings.warn(\n"
     ]
    },
    {
     "name": "stdout",
     "output_type": "stream",
     "text": [
      "Running on local URL:  http://127.0.0.1:7860\n",
      "\n",
      "To create a public link, set `share=True` in `launch()`.\n"
     ]
    },
    {
     "data": {
      "text/html": [
       "<div><iframe src=\"http://127.0.0.1:7860/\" width=\"100%\" height=\"500\" allow=\"autoplay; camera; microphone; clipboard-read; clipboard-write;\" frameborder=\"0\" allowfullscreen></iframe></div>"
      ],
      "text/plain": [
       "<IPython.core.display.HTML object>"
      ]
     },
     "metadata": {},
     "output_type": "display_data"
    },
    {
     "data": {
      "text/plain": []
     },
     "execution_count": 35,
     "metadata": {},
     "output_type": "execute_result"
    }
   ],
   "source": [
    "import gradio as gr\n",
    "\n",
    "salary=pd.read_csv(\"salary_data.csv\")\n",
    "# Define the input and output interfaces\n",
    "inputs = [\n",
    "    gr.inputs.Number(label=\"Age\"),\n",
    "    gr.inputs.Radio(['Male', 'Female'], label=\"Gender\"),\n",
    "    gr.inputs.Dropdown(list(salary['Education Level'].unique()), label=\"Education Level\"),\n",
    "    gr.inputs.Dropdown(list(salary['Job Title'].unique()), label=\"Job Title\"),\n",
    "    gr.inputs.Number(label=\"Years of Experience\")\n",
    "]\n",
    "\n",
    "output = gr.outputs.Textbox(label=\"Salary\")\n",
    "\n",
    "# Define the predict function\n",
    "def predict_salary(age, gender, education, job, experience):\n",
    "    # Encode the categorical variables\n",
    "    gender = 0 if gender == 'Male' else 1\n",
    "    education = list(salary['Education Level'].unique()).index(education)\n",
    "    job = list(salary['Job Title'].unique()).index(job)\n",
    "    \n",
    "    # Make the prediction\n",
    "    prediction = lm.predict([[age, gender, education, job, experience]])\n",
    "    \n",
    "    # Return the prediction\n",
    "    return f\"{round(prediction[0], 2):,}\"\n",
    "\n",
    "# Create the Gradio interface\n",
    "gr.Interface(predict_salary, inputs, output, title=\"Salary Predictor\", description='Predict the salary based on Gender, Age, Education Level, and Job Title.').launch()\n"
   ]
  },
  {
   "cell_type": "code",
   "execution_count": null,
   "id": "31280fe2",
   "metadata": {},
   "outputs": [],
   "source": []
  }
 ],
 "metadata": {
  "kernelspec": {
   "display_name": "Python 3 (ipykernel)",
   "language": "python",
   "name": "python3"
  },
  "language_info": {
   "codemirror_mode": {
    "name": "ipython",
    "version": 3
   },
   "file_extension": ".py",
   "mimetype": "text/x-python",
   "name": "python",
   "nbconvert_exporter": "python",
   "pygments_lexer": "ipython3",
   "version": "3.9.13"
  }
 },
 "nbformat": 4,
 "nbformat_minor": 5
}
